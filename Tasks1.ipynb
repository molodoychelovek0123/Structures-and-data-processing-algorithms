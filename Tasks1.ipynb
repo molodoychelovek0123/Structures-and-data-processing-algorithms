{
 "cells": [
  {
   "cell_type": "markdown",
   "id": "244314fb",
   "metadata": {},
   "source": [
    "# Задание 1"
   ]
  },
  {
   "cell_type": "markdown",
   "id": "64630386",
   "metadata": {},
   "source": [
    "Даны две строки: `s1` и `s2` с одинаковым размером.\n",
    "\n",
    "Проверьте, может ли некоторая перестановка строки `s1` “победить” некоторую перестановку строки `s2` или наоборот.\n",
    "\n",
    "Строка x может “победить” строку y (обе имеют размер n), если `x[i] >= y[i]` (в алфавитном порядке) для всех i от 0 до n-1.\n"
   ]
  },
  {
   "cell_type": "markdown",
   "id": "cf51dab2",
   "metadata": {},
   "source": [
    "## Ввод"
   ]
  },
  {
   "cell_type": "markdown",
   "id": "d697a747",
   "metadata": {},
   "source": [
    "`abc`\n",
    "`xya`"
   ]
  },
  {
   "cell_type": "markdown",
   "id": "50b10a2e",
   "metadata": {},
   "source": [
    "## Вывод"
   ]
  },
  {
   "cell_type": "markdown",
   "id": "55442a49",
   "metadata": {},
   "source": [
    "`True`\n",
    "\n",
    "### Исполняемый код записать в ячейку ниже:"
   ]
  },
  {
   "cell_type": "code",
   "execution_count": 3,
   "id": "3b0d440a",
   "metadata": {},
   "outputs": [
    {
     "name": "stdout",
     "output_type": "stream",
     "text": [
      "abcaxy\n",
      "True\n",
      "abeacd\n",
      "False\n"
     ]
    }
   ],
   "source": [
    "def stringFight(s1,s2):\n",
    "    if len(s1) != len(s2):\n",
    "        raise ValueError\n",
    "    count1 = 0\n",
    "    count2 = 0\n",
    "    s1 = ''.join(sorted(s1))\n",
    "    s2 = ''.join(sorted(s2))\n",
    "    for i in range(len(s1)):\n",
    "        if s1[i] >= s2[i]:\n",
    "            count1 += 1\n",
    "        if s1[i] <= s2[i]:\n",
    "            count2 += 1\n",
    "    if count1 == len(s1) or count2 == len(s1):\n",
    "        return True\n",
    "    return False\n",
    "\n",
    "print(stringFight('abc','xya'))\n",
    "print(stringFight('abe','acd'))"
   ]
  },
  {
   "cell_type": "markdown",
   "id": "b3a969a6",
   "metadata": {},
   "source": [
    "# Задание 2"
   ]
  },
  {
   "cell_type": "markdown",
   "id": "9c1ce05d",
   "metadata": {},
   "source": [
    "Дана строка `s`, вернуть самую длинную полиндромную подстроку в `s`."
   ]
  },
  {
   "cell_type": "markdown",
   "id": "20415c0e",
   "metadata": {},
   "source": [
    "## Ввод"
   ]
  },
  {
   "cell_type": "markdown",
   "id": "e77fcb44",
   "metadata": {},
   "source": [
    "`babad`"
   ]
  },
  {
   "cell_type": "markdown",
   "id": "49996449",
   "metadata": {},
   "source": [
    "## Вывод"
   ]
  },
  {
   "cell_type": "markdown",
   "id": "75be2464",
   "metadata": {},
   "source": [
    "`aba` или `bab`"
   ]
  },
  {
   "cell_type": "markdown",
   "id": "12ef9771",
   "metadata": {},
   "source": [
    "## Исполняемый код записывать в ячейку ниже"
   ]
  },
  {
   "cell_type": "code",
   "execution_count": 6,
   "id": "3f06c4fc",
   "metadata": {},
   "outputs": [
    {
     "name": "stdout",
     "output_type": "stream",
     "text": [
      "[0 1]ba\n",
      "[0 2]bab\n",
      "[0 3]baba\n",
      "[0 4]babad\n",
      "[1 2]ab\n",
      "[1 3]aba\n",
      "[1 4]abad\n",
      "[2 3]ba\n",
      "[2 4]bad\n",
      "[3 4]ad\n",
      "bab\n",
      "[0 1]cb\n",
      "[0 2]cbb\n",
      "[0 3]cbbd\n",
      "[1 2]bb\n",
      "[1 3]bbd\n",
      "[2 3]bd\n",
      "bb\n"
     ]
    }
   ],
   "source": [
    "def isPalindrome(word):\n",
    "    word = word.lower()\n",
    "    word1 = ''.join(reversed(word))\n",
    "    if word1 == word:\n",
    "        return True\n",
    "    return False\n",
    "  \n",
    "    \n",
    "def longestPalindrome(s):\n",
    "    max = 1\n",
    "    ans = s[0]\n",
    "    for i in range(len(s) - 1):\n",
    "        word = s[i]\n",
    "        for j in range(i+1, len(s)):\n",
    "            word += s[j]\n",
    "            #print(\"[\" + str(i) + \" \" + str(j) +\"]\" + word)\n",
    "            if isPalindrome(word):\n",
    "                l = len(word)\n",
    "                if l > max:\n",
    "                    max = l\n",
    "                    ans = word\n",
    "    return ans\n",
    "\n",
    "print(longestPalindrome('babad'))\n",
    "print(longestPalindrome('cbbd'))"
   ]
  },
  {
   "cell_type": "markdown",
   "id": "5f54b630",
   "metadata": {},
   "source": [
    "# Задание 3"
   ]
  },
  {
   "cell_type": "markdown",
   "id": "566f1d3b",
   "metadata": {},
   "source": [
    "Вернуть количество отдельных непустых подстрок текста, которые могут быть записаны как конкатенация некоторой строки с самой собой (т.е. она может быть записана, как `a + a`, где `a` - некоторая строка)."
   ]
  },
  {
   "cell_type": "markdown",
   "id": "0f734fd8",
   "metadata": {},
   "source": [
    "## Ввод"
   ]
  },
  {
   "cell_type": "markdown",
   "id": "e0be5554",
   "metadata": {},
   "source": [
    "`aabb`"
   ]
  },
  {
   "cell_type": "markdown",
   "id": "ab8eda0b",
   "metadata": {},
   "source": [
    "## Вывод"
   ]
  },
  {
   "cell_type": "markdown",
   "id": "1d716d36",
   "metadata": {},
   "source": [
    "2"
   ]
  },
  {
   "cell_type": "markdown",
   "id": "fcd91349",
   "metadata": {},
   "source": [
    "## Исполняемый код записывать в ячейку ниже"
   ]
  },
  {
   "cell_type": "code",
   "execution_count": 22,
   "id": "be07379d",
   "metadata": {},
   "outputs": [
    {
     "name": "stdout",
     "output_type": "stream",
     "text": [
      "['abc', 'bca', 'cab']\n",
      "3\n"
     ]
    }
   ],
   "source": [
    "def isConcatenationPossible(word,s):\n",
    "    #print(word + \", \"+ s)\n",
    "    for i in range(len(s) - 1):\n",
    "        guess = s[i]\n",
    "        for j in range(i+1, len(s)):\n",
    "            guess += s[j]\n",
    "            #print(guess)\n",
    "            if guess == word * 2:\n",
    "               # print('true \\n')\n",
    "                return True\n",
    "    #print('\\n')\n",
    "    return False\n",
    "\n",
    "\n",
    "def numOfConcatenationStrings(s):\n",
    "    count = 0\n",
    "    mem = []\n",
    "    for i in range(len(s) - 1):\n",
    "        guess = s[i]\n",
    "        if isConcatenationPossible(guess,s):\n",
    "                if guess not in mem:\n",
    "                    count += 1\n",
    "                    mem.append(guess)\n",
    "        for j in range(i+1, len(s)):\n",
    "            guess += s[j]\n",
    "            if isConcatenationPossible(guess,s):\n",
    "                if guess not in mem:\n",
    "                    count += 1\n",
    "                    mem.append(guess)\n",
    "    print(mem)\n",
    "    return count\n",
    "\n",
    "print(numOfConcatenationStrings('abcabcabc'))"
   ]
  },
  {
   "cell_type": "code",
   "execution_count": null,
   "id": "7067ed69",
   "metadata": {},
   "outputs": [],
   "source": []
  }
 ],
 "metadata": {
  "kernelspec": {
   "display_name": "Python 3 (ipykernel)",
   "language": "python",
   "name": "python3"
  },
  "language_info": {
   "codemirror_mode": {
    "name": "ipython",
    "version": 3
   },
   "file_extension": ".py",
   "mimetype": "text/x-python",
   "name": "python",
   "nbconvert_exporter": "python",
   "pygments_lexer": "ipython3",
   "version": "3.9.7"
  }
 },
 "nbformat": 4,
 "nbformat_minor": 5
}
