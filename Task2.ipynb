{
 "cells": [
  {
   "cell_type": "markdown",
   "id": "arctic-stocks",
   "metadata": {},
   "source": [
    "### Задание №1\n",
    "Массив A состоит из целых положительных чисел длин отрезков. Составьте из трех отрезков такой треугольник, чтобы его периметр был максимально возможным. Если невозможно составить треугольник с положительной площадью функция возвращает 0."
   ]
  },
  {
   "cell_type": "code",
   "execution_count": 1,
   "id": "caring-truck",
   "metadata": {
    "scrolled": false
   },
   "outputs": [
    {
     "name": "stdout",
     "output_type": "stream",
     "text": [
      "5\n",
      "0\n",
      "10\n",
      "8\n"
     ]
    }
   ],
   "source": [
    "def maxPer(side):\n",
    "    max = 0\n",
    "    if len(side) < 3:\n",
    "        raise ValueError\n",
    "    for i in side:\n",
    "        if i < 1:\n",
    "             raise ValueError\n",
    "    for i in range(len(side)-2):\n",
    "        for j in range(i+1, len(side)-1):\n",
    "            for k in range(j+1, len(side)):\n",
    "                p = (side[i] + side[j] + side[k]) / 2\n",
    "                S = p * (p - side[i]) * (p - side[j]) * (p - side[k])\n",
    "                if S <= 0:\n",
    "                    continue\n",
    "                P = side[i] + side[j] + side[k]\n",
    "                if P > max:\n",
    "                    max = P\n",
    "    return max\n",
    "\n",
    "print(maxPer([2,1,2]))\n",
    "print(maxPer([1,2,1])) \n",
    "print(maxPer([3,2,3,4]))\n",
    "print(maxPer([3,6,2,3]))"
   ]
  },
  {
   "cell_type": "markdown",
   "id": "maritime-conversation",
   "metadata": {},
   "source": [
    "### Задание №2\n",
    "Дан массив неотрицательных целых чисел nums. Расположите их в таком порядке, чтобы вместе они образовали максимально возможное число. Замечание: Результат может быть очень большим числом, поэтому представьте его как string, а не integer."
   ]
  },
  {
   "cell_type": "code",
   "execution_count": 3,
   "id": "alert-charm",
   "metadata": {
    "scrolled": false
   },
   "outputs": [
    {
     "name": "stdout",
     "output_type": "stream",
     "text": [
      "210\n",
      "9534330\n",
      "1\n",
      "9232110\n"
     ]
    }
   ],
   "source": [
    "def dualComp(a, b):\n",
    "    ab = int(str(a) + str(b))\n",
    "    ba = int(str(b) + str(a))\n",
    "    if ab > ba:\n",
    "        return True\n",
    "    else:\n",
    "        return False\n",
    "def sortArr(arr):\n",
    "    for i in range(len(arr) - 1):\n",
    "        max = i\n",
    "        for j in range(i + 1, len(arr)):\n",
    "            if not dualComp(arr[max], arr[j]):\n",
    "                max = j\n",
    "        arr[i], arr[max] = arr[max], arr[i]\n",
    "            \n",
    "            \n",
    "def maxNum(nums):\n",
    "    if len(nums) < 1:\n",
    "        raise ValueError\n",
    "    for i in nums:\n",
    "        if i < 1:\n",
    "             raise ValueError\n",
    "    \n",
    "    sortArr(nums)\n",
    "    return ''.join(str(e) for e in nums)\n",
    "\n",
    "\n",
    "print(maxNum([10,2]))\n",
    "print(maxNum([3,30,34,5,9]))\n",
    "print(maxNum([1]))\n",
    "print(maxNum([10,2321,8]))"
   ]
  },
  {
   "cell_type": "markdown",
   "id": "catholic-roots",
   "metadata": {},
   "source": [
    "### Задание №3\n",
    "Дана матрица mat размером m * n, значения целочисленные. Напишите функцию, сортирующую каждую диагональ матрицы по возрастанию и возвращающую получившуюся матрицу."
   ]
  },
  {
   "cell_type": "code",
   "execution_count": 10,
   "id": "cleared-anniversary",
   "metadata": {
    "scrolled": false
   },
   "outputs": [
    {
     "name": "stdout",
     "output_type": "stream",
     "text": [
      "   1   1   1   1\n",
      "   1   2   2   2\n",
      "   1   2   3   3\n",
      "\n",
      "\n",
      "   5  17   4   1  52   7\n",
      "  11  11  25  45   8  69\n",
      "  14  23  25  44  58  15\n",
      "  22  27  31  36  50  66\n",
      "  84  28  75  33  55  68\n"
     ]
    }
   ],
   "source": [
    "def printMatrix ( matrix ): \n",
    "    for i in range ( len(matrix) ): \n",
    "        for j in range ( len(matrix[i]) ): \n",
    "            print ( \"{:4d}\".format(matrix[i][j]), end = \"\" ) \n",
    "        print ()\n",
    "    \n",
    "def sortDiag(matrix, i, s3 = 0, s4 = 0):\n",
    "    diag = []\n",
    "    s1 = s3\n",
    "    s2 = s4\n",
    "    while True:\n",
    "        try:\n",
    "            diag.append(matrix[s1][s2])\n",
    "            s1 += 1\n",
    "            s2 += 1\n",
    "        except IndexError:\n",
    "            break\n",
    "    diag.sort()\n",
    "    s1 = s3\n",
    "    s2 = s4\n",
    "    for j in range(len(diag)):\n",
    "        matrix[s1][s2] = diag[j]\n",
    "        s1 += 1\n",
    "        s2 += 1\n",
    "\n",
    "def sortDiagMatrix(matrix):\n",
    "    for i in range(len(matrix)):\n",
    "        sortDiag(matrix, i, s3 = i)\n",
    "    for i in range(1, len(matrix[0])):\n",
    "        sortDiag(matrix, i, s4 = i)\n",
    "    return matrix\n",
    "\n",
    "printMatrix(sortDiagMatrix([[3, 3, 1, 1], [2, 2, 1, 2], [1, 1, 1, 2]]))\n",
    "print('\\n')\n",
    "printMatrix(sortDiagMatrix([[11, 25, 66, 1, 69, 7], [23, 55, 17, 45, 15, 52], [75, 31, 36, 44, 58, 8], [22, 27, 33, 25, 68, 4], [84, 28, 14, 11, 5, 50]]))"
   ]
  },
  {
   "cell_type": "code",
   "execution_count": null,
   "id": "13bc6bbf",
   "metadata": {},
   "outputs": [],
   "source": []
  }
 ],
 "metadata": {
  "kernelspec": {
   "display_name": "Python 3 (ipykernel)",
   "language": "python",
   "name": "python3"
  },
  "language_info": {
   "codemirror_mode": {
    "name": "ipython",
    "version": 3
   },
   "file_extension": ".py",
   "mimetype": "text/x-python",
   "name": "python",
   "nbconvert_exporter": "python",
   "pygments_lexer": "ipython3",
   "version": "3.9.7"
  }
 },
 "nbformat": 4,
 "nbformat_minor": 5
}
