{
 "cells": [
  {
   "cell_type": "markdown",
   "metadata": {},
   "source": [
    "# Лабораторная работа №1\n",
    "## Выполнил студент группы БВТ2003 Татаринов К.В."
   ]
  },
  {
   "cell_type": "markdown",
   "metadata": {},
   "source": [
    "### Функция генерации матрицы: "
   ]
  },
  {
   "cell_type": "code",
   "execution_count": 1,
   "metadata": {},
   "outputs": [],
   "source": [
    "import random\n",
    "import numpy\n",
    "import time\n",
    "def generateRndMatrix(m = 150, n = 150, min_limit = -250, max_limit = 1000):\n",
    "    # m, n - число строк и столбцов матрицы\n",
    "    # min_limit, max_limit - минимальное и максимальное значение случайного числа\n",
    "    matrix = numpy.empty((m, n))\n",
    "    for i in range(m):\n",
    "        for j in range(n):\n",
    "            matrix[i][j] = random.randint(min_limit, max_limit)\n",
    "    return matrix.astype(int)"
   ]
  },
  {
   "cell_type": "markdown",
   "metadata": {},
   "source": [
    "### Задание \n",
    "Реализовать методы сортировки строк числовой матрицы в соответствии с\n",
    "заданием. Оценить время работы каждого алгоритма сортировки и сравнить его со\n",
    "временем стандартной функции сортировки. Испытания проводить на сгенерированных\n",
    "матрицах."
   ]
  },
  {
   "cell_type": "code",
   "execution_count": 2,
   "metadata": {},
   "outputs": [],
   "source": [
    "# Сортировка выбором\n",
    "def selection_sort(matrix):\n",
    "    for row in matrix:\n",
    "        for i in range(len(row)):\n",
    "            smallest = i\n",
    "            for j in range(i + 1, len(row)):\n",
    "                if row[j] < row[smallest]:\n",
    "                    smallest = j\n",
    "            row[i], row[smallest] = row[smallest], row[i]"
   ]
  },
  {
   "cell_type": "code",
   "execution_count": 3,
   "metadata": {},
   "outputs": [],
   "source": [
    "#Сортировка вставкой\n",
    "def insertion_sort(matrix):\n",
    "    for row in matrix:\n",
    "        for i in range(len(row)):\n",
    "            j = i - 1 \n",
    "            key = row[i]\n",
    "            while row[j] > key and j >= 0:\n",
    "                row[j + 1] = row[j]\n",
    "                j -= 1\n",
    "                row[j + 1] = key\n",
    "    return matrix "
   ]
  },
  {
   "cell_type": "code",
   "execution_count": 4,
   "metadata": {},
   "outputs": [],
   "source": [
    "#Сортировка обменом\n",
    "def bubble_sort(matrix):\n",
    "    for row in matrix:\n",
    "        i, size = 1, len(row)\n",
    "        while i < size:\n",
    "            if row[i - 1] > row[i]:\n",
    "                row[i - 1], row[i] = row[i], row[i - 1]\n",
    "                i = 1\n",
    "            else:\n",
    "                i += 1\n",
    "    return matrix"
   ]
  },
  {
   "cell_type": "code",
   "execution_count": 5,
   "metadata": {},
   "outputs": [],
   "source": [
    "#Сортировка Шелла\n",
    "def shell_sort(arr):\n",
    "    last_index = len(arr) - 1\n",
    "    step = len(arr) // 2\n",
    "    while step > 0:\n",
    "        for i in range(step, last_index + 1, 1):\n",
    "            j = i\n",
    "            delta = j - step\n",
    "            while delta >= 0 and arr[delta] > arr[j]:\n",
    "                arr[delta], arr[j] = arr[j], arr[delta]\n",
    "                j = delta\n",
    "                delta = j - step\n",
    "        step //= 2"
   ]
  },
  {
   "cell_type": "code",
   "execution_count": 6,
   "metadata": {},
   "outputs": [],
   "source": [
    "#Турнирная сортировка\n",
    "def tournament_sort(arr):\n",
    "    tree = [None] * 2 * (len(arr) + len(arr) % 2)\n",
    "    index = len(tree) - len(arr) - len(arr) % 2\n",
    "    \n",
    "    for i, v in enumerate(arr):\n",
    "        tree[index + i] = (i, v)\n",
    "    \n",
    "    for j in range(len(arr)):\n",
    "        n = len(arr)\n",
    "        index = len(tree) - len(arr) - len(arr) % 2\n",
    "        while index > -1:\n",
    "            n = (n + 1) // 2\n",
    "            for i in range(n):\n",
    "                i = max(index + i * 2, 1) \n",
    "                if tree[i] != None and tree[i + 1] != None:\n",
    "                    if tree[i][1] < tree[i + 1][1]:\n",
    "                        tree[i // 2] = tree[i]\n",
    "                    else:\n",
    "                        tree[i // 2] = tree[i + 1]\n",
    "                else:\n",
    "                    tree[i // 2] = tree[i] if tree[i] != None else tree[i + 1]\n",
    "            index -= n\n",
    "\n",
    "        index, x = tree[0]\n",
    "        arr[j] = x\n",
    "        tree[len(tree) - len(arr) - len(arr) % 2 + index] = None"
   ]
  },
  {
   "cell_type": "code",
   "execution_count": 14,
   "metadata": {},
   "outputs": [],
   "source": [
    "#Быстрая сортировка\n",
    "def partition(arr, low, high):\n",
    "#     print('arr', arr[low:high])\n",
    "    pivot = arr[(low + high) // 2]\n",
    "#     print('pivot', pivot)\n",
    "    i = low - 1\n",
    "    j = high + 1\n",
    "    while True:\n",
    "        i += 1\n",
    "        while arr[i] < pivot:\n",
    "            i += 1\n",
    "        j -= 1\n",
    "        while arr[j] > pivot:\n",
    "            j -= 1\n",
    "        if i >= j:\n",
    "            return j\n",
    "        arr[i], arr[j] = arr[j], arr[i]\n",
    "def quick_sort(arr):  \n",
    "    def _quick_sort(items, low, high):\n",
    "        print(low, high)\n",
    "        if low < high:\n",
    "            split_index = partition(items, low, high)\n",
    "            _quick_sort(items, low, split_index)\n",
    "            _quick_sort(items, split_index + 1, high)\n",
    "    _quick_sort(arr, 0, len(arr) - 1)\n",
    "    return arr"
   ]
  },
  {
   "cell_type": "code",
   "execution_count": 8,
   "metadata": {},
   "outputs": [],
   "source": [
    "#Пирамидальная сортировка\n",
    "def heapify(nums, heap_size, root_index):  \n",
    "    largest = root_index\n",
    "    left_child = (2 * root_index) + 1\n",
    "    right_child = (2 * root_index) + 2\n",
    "    if left_child < heap_size and nums[left_child] > nums[largest]:\n",
    "        largest = left_child\n",
    "    if right_child < heap_size and nums[right_child] > nums[largest]:\n",
    "        largest = right_child\n",
    "    if largest != root_index:\n",
    "        nums[root_index], nums[largest] = nums[largest], nums[root_index]\n",
    "        heapify(nums, heap_size, largest)\n",
    "def heap_sort(nums):  \n",
    "    n = len(nums)\n",
    "    for i in range(n, -1, -1):\n",
    "        heapify(nums, n, i)\n",
    "    for i in range(n - 1, 0, -1):\n",
    "        nums[i], nums[0] = nums[0], nums[i]\n",
    "        heapify(nums, i, 0)"
   ]
  },
  {
   "cell_type": "code",
   "execution_count": 9,
   "metadata": {},
   "outputs": [
    {
     "name": "stdout",
     "output_type": "stream",
     "text": [
      "Стандартная сортировка: 0.00849449999999985\n",
      "Сортировка выбором: 0.7200232\n",
      "Сортировка вставкой: 0.8132113999999997\n",
      "Сортировка обменом: 28.3283652\n",
      "Сортировка Шелла: 0.15879079999999846\n",
      "Турнирная cортировка: 3.530943399999998\n",
      "Быстрая сортировка: 0.15734649999999561\n",
      "Пирамидальная сортировка: 0.3026387999999969\n"
     ]
    }
   ],
   "source": [
    "GenMatrix = generateRndMatrix()\n",
    "\n",
    "#Стандартная сортировка\n",
    "Copy_GenMatrix = GenMatrix.copy()\n",
    "timerStart = time.perf_counter()\n",
    "for row in Copy_GenMatrix:\n",
    "    sorted(row)\n",
    "timerEnd = time.perf_counter()\n",
    "time_taken = timerEnd - timerStart\n",
    "print(\"Стандартная сортировка:\", time_taken)\n",
    "\n",
    "#Сортировка выбором\n",
    "Copy_GenMatrix = GenMatrix.copy()\n",
    "timerStart = time.perf_counter()\n",
    "selection_sort(Copy_GenMatrix)\n",
    "timerEnd = time.perf_counter()\n",
    "time_taken = timerEnd - timerStart\n",
    "print(\"Сортировка выбором:\", time_taken)\n",
    "\n",
    "#Сортировка вставкой\n",
    "Copy_GenMatrix = GenMatrix.copy()\n",
    "timerStart = time.perf_counter()\n",
    "insertion_sort(Copy_GenMatrix)\n",
    "timerEnd = time.perf_counter()\n",
    "time_taken = timerEnd - timerStart\n",
    "print(\"Сортировка вставкой:\", time_taken)\n",
    "\n",
    "#Сортировка обменом\n",
    "Copy_GenMatrix = GenMatrix.copy()\n",
    "timerStart = time.perf_counter()\n",
    "bubble_sort(Copy_GenMatrix)\n",
    "timerEnd = time.perf_counter()\n",
    "time_taken = timerEnd - timerStart\n",
    "print(\"Сортировка обменом:\", time_taken)\n",
    "\n",
    "#Сортировка Шелла\n",
    "Copy_GenMatrix = GenMatrix.copy()\n",
    "timerStart = time.perf_counter()\n",
    "for row in Copy_GenMatrix:\n",
    "    shell_sort(row)\n",
    "timerEnd = time.perf_counter()\n",
    "time_taken = timerEnd - timerStart\n",
    "print(\"Сортировка Шелла:\", time_taken)\n",
    "\n",
    "#Турнирная сортировка\n",
    "Copy_GenMatrix = GenMatrix.copy()\n",
    "timerStart = time.perf_counter()\n",
    "for row in Copy_GenMatrix:\n",
    "    tournament_sort(row)\n",
    "timerEnd = time.perf_counter()\n",
    "time_taken = timerEnd - timerStart\n",
    "print(\"Турнирная cортировка:\", time_taken)\n",
    "\n",
    "#Быстрая сортировка\n",
    "Copy_GenMatrix = GenMatrix.copy()\n",
    "timerStart = time.perf_counter()\n",
    "for row in Copy_GenMatrix:\n",
    "    quick_sort(row)\n",
    "timerEnd = time.perf_counter()\n",
    "time_taken = timerEnd - timerStart\n",
    "print(\"Быстрая сортировка:\", time_taken)\n",
    "\n",
    "#Пирамидальная сортировка\n",
    "Copy_GenMatrix = GenMatrix.copy()\n",
    "timerStart = time.perf_counter()\n",
    "for row in Copy_GenMatrix:\n",
    "    heap_sort(row)\n",
    "timerEnd = time.perf_counter()\n",
    "time_taken = timerEnd - timerStart\n",
    "print(\"Пирамидальная сортировка:\", time_taken)"
   ]
  },
  {
   "cell_type": "markdown",
   "metadata": {},
   "source": [
    "## Вывод\n",
    "В данной лабораторной работе были получены теоретические и практические навыки написания сортировок.\n",
    "\n",
    "Было выявлено, что самым быстрым способом является встроенная сортировка sorted() в Python  \n",
    "Из собственно разработанных быстрее всего работает quick sort  \n",
    "Самый медленный же пузырьковый (сортировка обменом)  "
   ]
  },
  {
   "cell_type": "code",
   "execution_count": 13,
   "metadata": {},
   "outputs": [
    {
     "name": "stdout",
     "output_type": "stream",
     "text": [
      "0 6\n",
      "arr [5, 8, 4, 4, 2, 7]\n",
      "pivot 4\n",
      "0 2\n",
      "arr [2, 4]\n",
      "pivot 4\n",
      "0 1\n",
      "arr [2]\n",
      "pivot 2\n",
      "0 0\n",
      "1 1\n",
      "2 2\n",
      "3 6\n",
      "arr [8, 5, 7]\n",
      "pivot 5\n",
      "3 3\n",
      "4 6\n",
      "arr [8, 7]\n",
      "pivot 7\n",
      "4 5\n",
      "arr [7]\n",
      "pivot 7\n",
      "4 4\n",
      "5 5\n",
      "6 6\n",
      "[2, 4, 4, 5, 7, 7, 8]\n"
     ]
    }
   ],
   "source": [
    "print(quick_sort([5,8,4,4,2,7,7]))"
   ]
  },
  {
   "cell_type": "code",
   "execution_count": null,
   "metadata": {},
   "outputs": [],
   "source": []
  }
 ],
 "metadata": {
  "kernelspec": {
   "display_name": "Python 3 (ipykernel)",
   "language": "python",
   "name": "python3"
  },
  "language_info": {
   "codemirror_mode": {
    "name": "ipython",
    "version": 3
   },
   "file_extension": ".py",
   "mimetype": "text/x-python",
   "name": "python",
   "nbconvert_exporter": "python",
   "pygments_lexer": "ipython3",
   "version": "3.9.7"
  }
 },
 "nbformat": 4,
 "nbformat_minor": 4
}
